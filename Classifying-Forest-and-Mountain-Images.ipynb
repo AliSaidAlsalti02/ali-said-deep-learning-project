{
 "cells": [
  {
   "cell_type": "code",
   "execution_count": 1,
   "id": "99ccaf52-e063-4faf-a70a-cc7ade828a59",
   "metadata": {},
   "outputs": [],
   "source": [
    "# import all the required libraries\n",
    "import os\n",
    "import tensorflow as tf\n",
    "from tensorflow.keras.preprocessing.image import ImageDataGenerator\n",
    "from tensorflow.keras.models import Sequential\n",
    "from tensorflow. keras.layers import Conv2D, MaxPooling2D, Flatten, Dense, Dropout\n",
    "from sklearn.metrics import classification_report, confusion_matrix\n",
    "import matplotlib.pyplot as plt"
   ]
  },
  {
   "cell_type": "code",
   "execution_count": 10,
   "id": "a163acd4-69aa-430a-9216-63deacc067d3",
   "metadata": {},
   "outputs": [],
   "source": [
    "# Paths\n",
    "dataset_path = \"./intel-image-classification-dataset/\" \n",
    "train_path = os.path.join(dataset_path, \"seg_train\")  # Folder containing train images\n",
    "train_path\n",
    "test_path = os.path.join(dataset_path, \"seg_test\")    # Folder containing test images"
   ]
  },
  {
   "cell_type": "code",
   "execution_count": 11,
   "id": "5578bae9-9997-4858-ae76-e74ab76ddf7d",
   "metadata": {},
   "outputs": [],
   "source": [
    "# Filter classes (forest and mountain only)\n",
    "classes = ['forest', 'mountain']\n"
   ]
  },
  {
   "cell_type": "code",
   "execution_count": 12,
   "id": "2545f0de-15c3-4f89-9ca7-2e2d9864b2cb",
   "metadata": {},
   "outputs": [
    {
     "name": "stdout",
     "output_type": "stream",
     "text": [
      "Found 4783 images belonging to 2 classes.\n",
      "Found 999 images belonging to 2 classes.\n"
     ]
    }
   ],
   "source": [
    "# Data Generators\n",
    "train_datagen = ImageDataGenerator(\n",
    "    rescale=1./255,\n",
    "    rotation_range=20,\n",
    "    width_shift_range=0.2,\n",
    "    height_shift_range=0.2,\n",
    "    shear_range=0.2,\n",
    "    zoom_range=0.2,\n",
    "    horizontal_flip=True\n",
    ")\n",
    "test_datagen = ImageDataGenerator(rescale=1./255)\n",
    "\n",
    "train_data = train_datagen.flow_from_directory(\n",
    "    train_path,\n",
    "    target_size=(128, 128),\n",
    "    batch_size=32,\n",
    "    class_mode='binary',\n",
    "    classes=classes\n",
    ")\n",
    "test_data = test_datagen.flow_from_directory(\n",
    "    test_path,\n",
    "    target_size=(128, 128),\n",
    "    batch_size=32,\n",
    "    class_mode='binary',\n",
    "    classes=classes,\n",
    "    shuffle=False\n",
    ")"
   ]
  },
  {
   "cell_type": "code",
   "execution_count": 13,
   "id": "3ea28e60-01ec-49d3-ad75-77620908b696",
   "metadata": {},
   "outputs": [],
   "source": [
    "# Model\n",
    "model = Sequential([\n",
    "    Conv2D(32, (3, 3), activation='relu', input_shape=(128, 128, 3)),\n",
    "    MaxPooling2D((2, 2)),\n",
    "    Conv2D(64, (3, 3), activation='relu'),\n",
    "    MaxPooling2D((2, 2)),\n",
    "    Flatten(),\n",
    "    Dense(128, activation='relu'),\n",
    "    Dropout(0.5),\n",
    "    Dense(1, activation='sigmoid')\n",
    "])\n",
    "\n",
    "model.compile(optimizer='adam', loss='binary_crossentropy', metrics=['accuracy'])"
   ]
  },
  {
   "cell_type": "code",
   "execution_count": 14,
   "id": "450a88b5-1ed6-4e35-9978-406c809b3ca8",
   "metadata": {},
   "outputs": [
    {
     "name": "stdout",
     "output_type": "stream",
     "text": [
      "Epoch 1/10\n",
      "150/150 [==============================] - 152s 999ms/step - loss: 0.2000 - accuracy: 0.9354 - val_loss: 0.0634 - val_accuracy: 0.9850\n",
      "Epoch 2/10\n",
      "150/150 [==============================] - 90s 601ms/step - loss: 0.1075 - accuracy: 0.9703 - val_loss: 0.0546 - val_accuracy: 0.9870\n",
      "Epoch 3/10\n",
      "150/150 [==============================] - 89s 593ms/step - loss: 0.0968 - accuracy: 0.9718 - val_loss: 0.0516 - val_accuracy: 0.9860\n",
      "Epoch 4/10\n",
      "150/150 [==============================] - 87s 579ms/step - loss: 0.0912 - accuracy: 0.9751 - val_loss: 0.0854 - val_accuracy: 0.9830\n",
      "Epoch 5/10\n",
      "150/150 [==============================] - 86s 570ms/step - loss: 0.0893 - accuracy: 0.9739 - val_loss: 0.1121 - val_accuracy: 0.9740\n",
      "Epoch 6/10\n",
      "150/150 [==============================] - 87s 582ms/step - loss: 0.0928 - accuracy: 0.9724 - val_loss: 0.0833 - val_accuracy: 0.9790\n"
     ]
    }
   ],
   "source": [
    "# Training\n",
    "history = model.fit(\n",
    "    train_data,\n",
    "    validation_data=test_data,\n",
    "    epochs=10,\n",
    "    callbacks=[tf.keras.callbacks.EarlyStopping(monitor='val_loss', patience=3)]\n",
    ")"
   ]
  },
  {
   "cell_type": "code",
   "execution_count": 15,
   "id": "aab20de4-e999-4aca-a9d6-64f3d7e44810",
   "metadata": {},
   "outputs": [
    {
     "name": "stdout",
     "output_type": "stream",
     "text": [
      "32/32 [==============================] - 4s 106ms/step - loss: 0.0833 - accuracy: 0.9790\n",
      "Test Accuracy: 97.90%\n"
     ]
    }
   ],
   "source": [
    "# Evaluation\n",
    "test_loss, test_accuracy = model.evaluate(test_data)\n",
    "print(f\"Test Accuracy: {test_accuracy * 100:.2f}%\")"
   ]
  },
  {
   "cell_type": "code",
   "execution_count": 16,
   "id": "f00b4699-00c9-4ea6-aeaa-484c383d2320",
   "metadata": {},
   "outputs": [
    {
     "name": "stdout",
     "output_type": "stream",
     "text": [
      "32/32 [==============================] - 4s 106ms/step\n",
      "              precision    recall  f1-score   support\n",
      "\n",
      "      forest       0.97      0.99      0.98       474\n",
      "    mountain       0.99      0.97      0.98       525\n",
      "\n",
      "    accuracy                           0.98       999\n",
      "   macro avg       0.98      0.98      0.98       999\n",
      "weighted avg       0.98      0.98      0.98       999\n",
      "\n"
     ]
    }
   ],
   "source": [
    "# Predictions\n",
    "predictions = (model.predict(test_data) > 0.5).astype(\"int32\")\n",
    "true_labels = test_data.classes\n",
    "print(classification_report(true_labels, predictions, target_names=classes))"
   ]
  },
  {
   "cell_type": "code",
   "execution_count": 17,
   "id": "7da5522a-e4b6-42e8-a6e8-b4d1d52e61bc",
   "metadata": {},
   "outputs": [
    {
     "data": {
      "image/png": "[encoded data removed]",
      "text/plain": [
       "<Figure size 500x500 with 2 Axes>"
      ]
     },
     "metadata": {},
     "output_type": "display_data"
    }
   ],
   "source": [
    "# Confusion Matrix\n",
    "cm = confusion_matrix(true_labels, predictions)\n",
    "plt.figure(figsize=(5, 5))\n",
    "plt.imshow(cm, cmap='Blues', interpolation='nearest')\n",
    "plt.title(\"Confusion Matrix\")\n",
    "plt.colorbar()\n",
    "plt.xlabel('Predicted')\n",
    "plt.ylabel('True')\n",
    "plt.show()"
   ]
  },
  {
   "cell_type": "code",
   "execution_count": 18,
   "id": "c33bce2f-a468-47f8-af32-2836bac7f5a4",
   "metadata": {},
   "outputs": [],
   "source": [
    "# Save Model\n",
    "model.save('forest_vs_mountain_classifier.h5')"
   ]
  }
 ],
 "metadata": {
  "kernelspec": {
   "display_name": "Python 3 (ipykernel)",
   "language": "python",
   "name": "python3"
  },
  "language_info": {
   "codemirror_mode": {
    "name": "ipython",
    "version": 3
   },
   "file_extension": ".py",
   "mimetype": "text/x-python",
   "name": "python",
   "nbconvert_exporter": "python",
   "pygments_lexer": "ipython3",
   "version": "3.9.18"
  }
 },
 "nbformat": 4,
 "nbformat_minor": 5
}
