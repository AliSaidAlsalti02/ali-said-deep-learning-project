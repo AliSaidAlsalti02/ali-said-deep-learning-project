{
 "cells": [
  {
   "cell_type": "code",
   "execution_count": 4,
   "id": "99ccaf52-e063-4faf-a70a-cc7ade828a59",
   "metadata": {},
   "outputs": [],
   "source": [
    "# import all the required libraries\n",
    "import os\n",
    "import tensorflow as tf\n",
    "from tensorflow.keras.preprocessing.image import ImageDataGenerator\n",
    "from tensorflow.keras.models import Sequential\n",
    "from tensorflow. keras.layers import Conv2D, MaxPooling2D, Flatten, Dense, Dropout\n",
    "from sklearn.metrics import classification_report, confusion_matrix\n",
    "import matplotlib.pyplot as plt"
   ]
  },
  {
   "cell_type": "code",
   "execution_count": 5,
   "id": "a163acd4-69aa-430a-9216-63deacc067d3",
   "metadata": {},
   "outputs": [],
   "source": [
    "# Paths\n",
    "dataset_path = \"./intel-image-classification-dataset/\" \n",
    "train_path = os.path.join(dataset_path, \"seg_train\")  # Folder containing train images\n",
    "train_path\n",
    "test_path = os.path.join(dataset_path, \"seg_test\")    # Folder containing test images"
   ]
  },
  {
   "cell_type": "code",
   "execution_count": 6,
   "id": "5578bae9-9997-4858-ae76-e74ab76ddf7d",
   "metadata": {},
   "outputs": [],
   "source": [
    "# Filter classes (forest and mountain only)\n",
    "classes = ['forest', 'mountain']\n"
   ]
  },
  {
   "cell_type": "code",
   "execution_count": 7,
   "id": "2545f0de-15c3-4f89-9ca7-2e2d9864b2cb",
   "metadata": {},
   "outputs": [
    {
     "name": "stdout",
     "output_type": "stream",
     "text": [
      "Found 4783 images belonging to 2 classes.\n",
      "Found 999 images belonging to 2 classes.\n"
     ]
    }
   ],
   "source": [
    "# Data Generators\n",
    "train_datagen = ImageDataGenerator(\n",
    "    rescale=1./255,\n",
    "    rotation_range=20,\n",
    "    width_shift_range=0.2,\n",
    "    height_shift_range=0.2,\n",
    "    shear_range=0.2,\n",
    "    zoom_range=0.2,\n",
    "    horizontal_flip=True\n",
    ")\n",
    "test_datagen = ImageDataGenerator(rescale=1./255)\n",
    "\n",
    "train_data = train_datagen.flow_from_directory(\n",
    "    train_path,\n",
    "    target_size=(128, 128),\n",
    "    batch_size=32,\n",
    "    class_mode='binary',\n",
    "    classes=classes\n",
    ")\n",
    "test_data = test_datagen.flow_from_directory(\n",
    "    test_path,\n",
    "    target_size=(128, 128),\n",
    "    batch_size=32,\n",
    "    class_mode='binary',\n",
    "    classes=classes,\n",
    "    shuffle=False\n",
    ")"
   ]
  },
  {
   "cell_type": "code",
   "execution_count": 8,
   "id": "3ea28e60-01ec-49d3-ad75-77620908b696",
   "metadata": {},
   "outputs": [],
   "source": [
    "# Model\n",
    "model = Sequential([\n",
    "    Conv2D(32, (3, 3), activation='relu', input_shape=(128, 128, 3)),\n",
    "    MaxPooling2D((2, 2)),\n",
    "    Conv2D(64, (3, 3), activation='relu'),\n",
    "    MaxPooling2D((2, 2)),\n",
    "    Flatten(),\n",
    "    Dense(128, activation='relu'),\n",
    "    Dropout(0.5),\n",
    "    Dense(1, activation='sigmoid')\n",
    "])\n",
    "\n",
    "model.compile(optimizer='adam', loss='binary_crossentropy', metrics=['accuracy'])"
   ]
  },
  {
   "cell_type": "code",
   "execution_count": 9,
   "id": "450a88b5-1ed6-4e35-9978-406c809b3ca8",
   "metadata": {},
   "outputs": [
    {
     "name": "stdout",
     "output_type": "stream",
     "text": [
      "Epoch 1/10\n",
      "150/150 [==============================] - 96s 634ms/step - loss: 0.2127 - accuracy: 0.9239 - val_loss: 0.0693 - val_accuracy: 0.9830\n",
      "Epoch 2/10\n",
      "150/150 [==============================] - 93s 621ms/step - loss: 0.1235 - accuracy: 0.9624 - val_loss: 0.0552 - val_accuracy: 0.9850\n",
      "Epoch 3/10\n",
      "150/150 [==============================] - 95s 634ms/step - loss: 0.1003 - accuracy: 0.9707 - val_loss: 0.0555 - val_accuracy: 0.9860\n",
      "Epoch 4/10\n",
      "150/150 [==============================] - 105s 696ms/step - loss: 0.0989 - accuracy: 0.9709 - val_loss: 0.0450 - val_accuracy: 0.9890\n",
      "Epoch 5/10\n",
      "150/150 [==============================] - 205s 1s/step - loss: 0.0804 - accuracy: 0.9766 - val_loss: 0.0368 - val_accuracy: 0.9890\n",
      "Epoch 6/10\n",
      "150/150 [==============================] - 198s 1s/step - loss: 0.0798 - accuracy: 0.9760 - val_loss: 0.0377 - val_accuracy: 0.9910\n",
      "Epoch 7/10\n",
      "150/150 [==============================] - 184s 1s/step - loss: 0.0784 - accuracy: 0.9751 - val_loss: 0.0457 - val_accuracy: 0.9860\n",
      "Epoch 8/10\n",
      "150/150 [==============================] - 191s 1s/step - loss: 0.0820 - accuracy: 0.9772 - val_loss: 0.0345 - val_accuracy: 0.9910\n",
      "Epoch 9/10\n",
      "150/150 [==============================] - 204s 1s/step - loss: 0.0679 - accuracy: 0.9818 - val_loss: 0.0661 - val_accuracy: 0.9760\n",
      "Epoch 10/10\n",
      "150/150 [==============================] - 182s 1s/step - loss: 0.0784 - accuracy: 0.9785 - val_loss: 0.0413 - val_accuracy: 0.9890\n"
     ]
    }
   ],
   "source": [
    "# Training\n",
    "history = model.fit(\n",
    "    train_data,\n",
    "    validation_data=test_data,\n",
    "    epochs=10,\n",
    "    callbacks=[tf.keras.callbacks.EarlyStopping(monitor='val_loss', patience=3)]\n",
    ")"
   ]
  },
  {
   "cell_type": "code",
   "execution_count": 10,
   "id": "aab20de4-e999-4aca-a9d6-64f3d7e44810",
   "metadata": {},
   "outputs": [
    {
     "name": "stdout",
     "output_type": "stream",
     "text": [
      "32/32 [==============================] - 4s 125ms/step - loss: 0.0413 - accuracy: 0.9890\n",
      "Test Accuracy: 98.90%\n"
     ]
    }
   ],
   "source": [
    "# Evaluation\n",
    "test_loss, test_accuracy = model.evaluate(test_data)\n",
    "print(f\"Test Accuracy: {test_accuracy * 100:.2f}%\")"
   ]
  },
  {
   "cell_type": "code",
   "execution_count": 11,
   "id": "f00b4699-00c9-4ea6-aeaa-484c383d2320",
   "metadata": {},
   "outputs": [
    {
     "name": "stdout",
     "output_type": "stream",
     "text": [
      "32/32 [==============================] - 4s 125ms/step\n",
      "              precision    recall  f1-score   support\n",
      "\n",
      "      forest       0.99      0.99      0.99       474\n",
      "    mountain       0.99      0.99      0.99       525\n",
      "\n",
      "    accuracy                           0.99       999\n",
      "   macro avg       0.99      0.99      0.99       999\n",
      "weighted avg       0.99      0.99      0.99       999\n",
      "\n"
     ]
    }
   ],
   "source": [
    "# Predictions\n",
    "predictions = (model.predict(test_data) > 0.5).astype(\"int32\")\n",
    "true_labels = test_data.classes\n",
    "print(classification_report(true_labels, predictions, target_names=classes))"
   ]
  },
  {
   "cell_type": "code",
   "execution_count": null,
   "id": "dc8fdd65-371a-4af4-ab63-2c3e9ca638b2",
   "metadata": {},
   "outputs": [],
   "source": []
  },
  {
   "cell_type": "code",
   "execution_count": 12,
   "id": "7da5522a-e4b6-42e8-a6e8-b4d1d52e61bc",
   "metadata": {},
   "outputs": [
    {
     "data": {
      "image/png": "[encoded data removed]",
      "text/plain": [
       "<Figure size 500x500 with 2 Axes>"
      ]
     },
     "metadata": {},
     "output_type": "display_data"
    }
   ],
   "source": [
    "# Confusion Matrix\n",
    "cm = confusion_matrix(true_labels, predictions)\n",
    "plt.figure(figsize=(5, 5))\n",
    "plt.imshow(cm, cmap='Blues', interpolation='nearest')\n",
    "plt.title(\"Confusion Matrix\")\n",
    "plt.colorbar()\n",
    "plt.xlabel('Predicted')\n",
    "plt.ylabel('True')\n",
    "plt.show()"
   ]
  },
  {
   "cell_type": "code",
   "execution_count": 13,
   "id": "f741b87d-b03c-4b3f-9136-e7f38968a0a1",
   "metadata": {},
   "outputs": [],
   "source": [
    "# Save Model\n",
    "model.save('forest_vs_mountain_classifier.h5')"
   ]
  },
  {
   "cell_type": "code",
   "execution_count": null,
   "id": "0cffbcb2-06c6-432c-8fdb-9055777df687",
   "metadata": {},
   "outputs": [],
   "source": [
    "# Import necessary libraries\n",
    "import tensorflow as tf\n",
    "from tensorflow.keras import layers, models\n",
    "from tensorflow.keras.applications import MobileNetV2\n",
    "from tensorflow.keras.preprocessing.image import ImageDataGenerator\n",
    "from tensorflow.keras.optimizers import Adam\n",
    "\n",
    "# Image dimensions and batch size\n",
    "IMG_SIZE = 128\n",
    "BATCH_SIZE = 32\n",
    "\n",
    "train_generator = train_datagen.flow_from_directory(\n",
    "    train_path,\n",
    "    target_size=(IMG_SIZE, IMG_SIZE),\n",
    "    batch_size=BATCH_SIZE,\n",
    "    class_mode='binary'\n",
    ")\n",
    "\n",
    "valid_generator = test_datagen.flow_from_directory(\n",
    "    test_path,\n",
    "    target_size=(IMG_SIZE, IMG_SIZE),\n",
    "    batch_size=BATCH_SIZE,\n",
    "    class_mode='binary'\n",
    ")\n",
    "\n",
    "# Load the MobileNetV2 model with pre-trained weights (excluding the top layer)\n",
    "base_model = MobileNetV2(weights='imagenet', include_top=False, input_shape=(IMG_SIZE, IMG_SIZE, 3))\n",
    "\n",
    "# Freeze the layers of the base model\n",
    "base_model.trainable = False\n",
    "\n",
    "# Create the model with custom top layers\n",
    "model = models.Sequential([\n",
    "    base_model,\n",
    "    layers.GlobalAveragePooling2D(),\n",
    "    layers.Dense(128, activation='relu'),\n",
    "    layers.Dropout(0.5),\n",
    "    layers.Dense(1, activation='sigmoid')  # For binary classification\n",
    "])\n",
    "\n",
    "# Compile the model\n",
    "model.compile(optimizer=Adam(), loss='binary_crossentropy', metrics=['accuracy'])\n",
    "\n",
    "# Train the model\n",
    "history = model.fit(\n",
    "    train_generator,\n",
    "    epochs=10,\n",
    "    validation_data=valid_generator\n",
    ")\n",
    "\n",
    "# Evaluate the model on the validation set\n",
    "val_loss, val_acc = model.evaluate(valid_generator)\n",
    "print(f'Validation Loss: {val_loss}')\n",
    "print(f'Validation Accuracy: {val_acc}')\n"
   ]
  }
 ],
 "metadata": {
  "kernelspec": {
   "display_name": "Python 3 (ipykernel)",
   "language": "python",
   "name": "python3"
  },
  "language_info": {
   "codemirror_mode": {
    "name": "ipython",
    "version": 3
   },
   "file_extension": ".py",
   "mimetype": "text/x-python",
   "name": "python",
   "nbconvert_exporter": "python",
   "pygments_lexer": "ipython3",
   "version": "3.9.18"
  }
 },
 "nbformat": 4,
 "nbformat_minor": 5
}
